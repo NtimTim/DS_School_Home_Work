{
  "cells": [
    {
      "cell_type": "markdown",
      "metadata": {
        "id": "view-in-github",
        "colab_type": "text"
      },
      "source": [
        "<a href=\"https://colab.research.google.com/github/NtimTim/DS_School_Home_Work/blob/main/Hometask/Task3_dmrf_OOP.ipynb\" target=\"_parent\"><img src=\"https://colab.research.google.com/assets/colab-badge.svg\" alt=\"Open In Colab\"/></a>"
      ]
    },
    {
      "cell_type": "markdown",
      "source": [
        "[![Open In Colab](https://colab.research.google.com/assets/colab-badge.svg)](https://colab.research.google.com/github/4vel/python-intro/blob/main/Hometask/Task3_dmrf_OOP.ipynb)"
      ],
      "metadata": {
        "collapsed": false,
        "pycharm": {
          "name": "#%% md\n"
        },
        "id": "iOnnelNVFabr"
      }
    },
    {
      "cell_type": "markdown",
      "source": [
        "# Задание\n",
        "\n",
        "* Реализовать в ООП - формате задания 1 и 2\n",
        "\n",
        "### Справочно:\n",
        "Задание 1\n",
        "* Собрать информацию о всех строящихся объектах на сайте \"наш.дом.рф\"\n",
        "* Cохранить ее в pandas dataframe\n",
        "* Cохранить pandas dataframe в pickle\n",
        "* Cохранить pandas dataframe в excel\n",
        "* Cохранить pandas dataframe в БД\n",
        "\n",
        "Задание 2\n",
        "* Используя данные об объектах недвижимости на сайте “наш.дом.рф” или cian.ru, провести мини-исследование рынка строящейся/готовой недвижимости в одном или нескольких регионах с помощью pandas, matplotlib, seaborn, plotly и других инструментов.\n",
        "<b> Идеи для мини-исследования </b>\n",
        "* Рассчитать средние цены за квадратный метр по регионам. Важно чтобы пропуски не учитывались при расчете средней цены.\n",
        "* Рассчитать объемы вводимого жилья по регионам и по годам.\n",
        "* Сравнить этажность домов, количество квартир, жилую площадь, количество парковочных мест и цену за квадратный метр в разных регионах.\n",
        "* Визуализировать разброс, связь, доли, распределение этих показателей по регионам.\n",
        "* Сделать выводы по каждому из расчетов и графиков\n"
      ],
      "metadata": {
        "collapsed": false,
        "pycharm": {
          "name": "#%% md\n"
        },
        "id": "04AkBG3KFab2"
      }
    },
    {
      "cell_type": "code",
      "execution_count": null,
      "outputs": [],
      "source": [
        "# Ваш код здесь..."
      ],
      "metadata": {
        "pycharm": {
          "name": "#%%\n"
        },
        "ExecuteTime": {
          "end_time": "2024-07-08T14:29:37.765426Z",
          "start_time": "2024-07-08T14:29:37.762100Z"
        },
        "id": "6DHEchy_Fab5"
      }
    },
    {
      "cell_type": "code",
      "execution_count": null,
      "outputs": [],
      "source": [
        "class DataLoader:\n",
        "  def __init__(url):\n",
        "    self.url\n",
        "    self.data = None\n",
        "  def load_data():\n",
        "    pass\n",
        "  def load_data_from_file():\n",
        "    self.data = joblib.load(file_path)\n",
        "  def save_to_db():\n",
        "    pass\n",
        "  def save_t_csv():\n",
        "    pass\n",
        ""
      ],
      "metadata": {
        "id": "uO2GDXuOFab9"
      }
    },
    {
      "cell_type": "code",
      "source": [
        "dl = DataLoader(url)\n",
        "dl.load_data()\n",
        "dl.save_t_db()"
      ],
      "metadata": {
        "id": "Wt622q2NLgs4"
      },
      "execution_count": null,
      "outputs": []
    },
    {
      "cell_type": "code",
      "source": [
        "class Visualiser():\n",
        "  def __init__(self,data):\n",
        "    self.data = data\n",
        "\n",
        "  def make_boxplot(self, feature):\n",
        "    pass\n",
        "  def make_heatmap(self)"
      ],
      "metadata": {
        "id": "M2G-U6SRLv_i"
      },
      "execution_count": null,
      "outputs": []
    }
  ],
  "metadata": {
    "kernelspec": {
      "display_name": "Python 3",
      "language": "python",
      "name": "python3"
    },
    "language_info": {
      "codemirror_mode": {
        "name": "ipython",
        "version": 2
      },
      "file_extension": ".py",
      "mimetype": "text/x-python",
      "name": "python",
      "nbconvert_exporter": "python",
      "pygments_lexer": "ipython2",
      "version": "2.7.6"
    },
    "colab": {
      "provenance": [],
      "include_colab_link": true
    }
  },
  "nbformat": 4,
  "nbformat_minor": 0
}