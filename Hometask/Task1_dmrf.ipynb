{
  "cells": [
    {
      "cell_type": "markdown",
      "metadata": {
        "id": "view-in-github",
        "colab_type": "text"
      },
      "source": [
        "<a href=\"https://colab.research.google.com/github/NtimTim/DS_School_Home_Work/blob/main/Hometask/Task1_dmrf.ipynb\" target=\"_parent\"><img src=\"https://colab.research.google.com/assets/colab-badge.svg\" alt=\"Open In Colab\"/></a>"
      ]
    },
    {
      "cell_type": "markdown",
      "source": [
        "[![Open In Colab](https://colab.research.google.com/assets/colab-badge.svg)](https://colab.research.google.com/github/4vel/python-intro/blob/main/HomeTask/Task1_dmrf.ipynb)"
      ],
      "metadata": {
        "collapsed": false,
        "pycharm": {
          "name": "#%% md\n"
        },
        "id": "xi0UMKrooaPk"
      }
    },
    {
      "cell_type": "markdown",
      "source": [
        "# Задание\n",
        "* Собрать информацию о всех строящихся объектах на сайте \"наш.дом.рф\"\n",
        "* Cохранить ее в pandas dataframe\n",
        "* Cохранить pandas dataframe в pickle\n",
        "* Cохранить pandas dataframe в excel\n",
        "* Cохранить pandas dataframe в БД\n",
        "\n",
        "\n",
        "# Поправка\n",
        "* В случае если не удается/ не получается / не хочется скачать информацию о всех строящихся объектах на сайте \"наш.дом.рф\", пропустите первые 3 пункта задания. Используйте готовый файл в формате pickle (df_nashfomrf.pkl) и переходите к следующим пунктам\n",
        "\n",
        "* Если не получается скачать данные с помощью библиотеки requests, но есть желание собрать данные с помощью python, то можно воспользоваться библиотекой selenium, которая извлекает информацию из веб-страниц в браузере."
      ],
      "metadata": {
        "collapsed": false,
        "pycharm": {
          "name": "#%% md\n"
        },
        "id": "xU3zHFdioaPu"
      }
    },
    {
      "cell_type": "code",
      "execution_count": 21,
      "outputs": [],
      "source": [
        "import requests"
      ],
      "metadata": {
        "pycharm": {
          "name": "#%%\n"
        },
        "ExecuteTime": {
          "end_time": "2023-12-07T13:23:41.474486Z",
          "start_time": "2023-12-07T13:23:41.465949Z"
        },
        "id": "F0bRSaPtoaPy"
      }
    },
    {
      "cell_type": "markdown",
      "source": [
        "## Шаг 1й - Получение списка объектов"
      ],
      "metadata": {
        "collapsed": false,
        "pycharm": {
          "name": "#%% md\n"
        },
        "id": "zFLBjQ1VoaP3"
      }
    },
    {
      "cell_type": "code",
      "execution_count": 22,
      "outputs": [
        {
          "output_type": "error",
          "ename": "JSONDecodeError",
          "evalue": "Expecting value: line 1 column 1 (char 0)",
          "traceback": [
            "\u001b[0;31m---------------------------------------------------------------------------\u001b[0m",
            "\u001b[0;31mJSONDecodeError\u001b[0m                           Traceback (most recent call last)",
            "\u001b[0;32m/usr/local/lib/python3.10/dist-packages/requests/models.py\u001b[0m in \u001b[0;36mjson\u001b[0;34m(self, **kwargs)\u001b[0m\n\u001b[1;32m    970\u001b[0m         \u001b[0;32mtry\u001b[0m\u001b[0;34m:\u001b[0m\u001b[0;34m\u001b[0m\u001b[0;34m\u001b[0m\u001b[0m\n\u001b[0;32m--> 971\u001b[0;31m             \u001b[0;32mreturn\u001b[0m \u001b[0mcomplexjson\u001b[0m\u001b[0;34m.\u001b[0m\u001b[0mloads\u001b[0m\u001b[0;34m(\u001b[0m\u001b[0mself\u001b[0m\u001b[0;34m.\u001b[0m\u001b[0mtext\u001b[0m\u001b[0;34m,\u001b[0m \u001b[0;34m**\u001b[0m\u001b[0mkwargs\u001b[0m\u001b[0;34m)\u001b[0m\u001b[0;34m\u001b[0m\u001b[0;34m\u001b[0m\u001b[0m\n\u001b[0m\u001b[1;32m    972\u001b[0m         \u001b[0;32mexcept\u001b[0m \u001b[0mJSONDecodeError\u001b[0m \u001b[0;32mas\u001b[0m \u001b[0me\u001b[0m\u001b[0;34m:\u001b[0m\u001b[0;34m\u001b[0m\u001b[0;34m\u001b[0m\u001b[0m\n",
            "\u001b[0;32m/usr/lib/python3.10/json/__init__.py\u001b[0m in \u001b[0;36mloads\u001b[0;34m(s, cls, object_hook, parse_float, parse_int, parse_constant, object_pairs_hook, **kw)\u001b[0m\n\u001b[1;32m    345\u001b[0m             parse_constant is None and object_pairs_hook is None and not kw):\n\u001b[0;32m--> 346\u001b[0;31m         \u001b[0;32mreturn\u001b[0m \u001b[0m_default_decoder\u001b[0m\u001b[0;34m.\u001b[0m\u001b[0mdecode\u001b[0m\u001b[0;34m(\u001b[0m\u001b[0ms\u001b[0m\u001b[0;34m)\u001b[0m\u001b[0;34m\u001b[0m\u001b[0;34m\u001b[0m\u001b[0m\n\u001b[0m\u001b[1;32m    347\u001b[0m     \u001b[0;32mif\u001b[0m \u001b[0mcls\u001b[0m \u001b[0;32mis\u001b[0m \u001b[0;32mNone\u001b[0m\u001b[0;34m:\u001b[0m\u001b[0;34m\u001b[0m\u001b[0;34m\u001b[0m\u001b[0m\n",
            "\u001b[0;32m/usr/lib/python3.10/json/decoder.py\u001b[0m in \u001b[0;36mdecode\u001b[0;34m(self, s, _w)\u001b[0m\n\u001b[1;32m    336\u001b[0m         \"\"\"\n\u001b[0;32m--> 337\u001b[0;31m         \u001b[0mobj\u001b[0m\u001b[0;34m,\u001b[0m \u001b[0mend\u001b[0m \u001b[0;34m=\u001b[0m \u001b[0mself\u001b[0m\u001b[0;34m.\u001b[0m\u001b[0mraw_decode\u001b[0m\u001b[0;34m(\u001b[0m\u001b[0ms\u001b[0m\u001b[0;34m,\u001b[0m \u001b[0midx\u001b[0m\u001b[0;34m=\u001b[0m\u001b[0m_w\u001b[0m\u001b[0;34m(\u001b[0m\u001b[0ms\u001b[0m\u001b[0;34m,\u001b[0m \u001b[0;36m0\u001b[0m\u001b[0;34m)\u001b[0m\u001b[0;34m.\u001b[0m\u001b[0mend\u001b[0m\u001b[0;34m(\u001b[0m\u001b[0;34m)\u001b[0m\u001b[0;34m)\u001b[0m\u001b[0;34m\u001b[0m\u001b[0;34m\u001b[0m\u001b[0m\n\u001b[0m\u001b[1;32m    338\u001b[0m         \u001b[0mend\u001b[0m \u001b[0;34m=\u001b[0m \u001b[0m_w\u001b[0m\u001b[0;34m(\u001b[0m\u001b[0ms\u001b[0m\u001b[0;34m,\u001b[0m \u001b[0mend\u001b[0m\u001b[0;34m)\u001b[0m\u001b[0;34m.\u001b[0m\u001b[0mend\u001b[0m\u001b[0;34m(\u001b[0m\u001b[0;34m)\u001b[0m\u001b[0;34m\u001b[0m\u001b[0;34m\u001b[0m\u001b[0m\n",
            "\u001b[0;32m/usr/lib/python3.10/json/decoder.py\u001b[0m in \u001b[0;36mraw_decode\u001b[0;34m(self, s, idx)\u001b[0m\n\u001b[1;32m    354\u001b[0m         \u001b[0;32mexcept\u001b[0m \u001b[0mStopIteration\u001b[0m \u001b[0;32mas\u001b[0m \u001b[0merr\u001b[0m\u001b[0;34m:\u001b[0m\u001b[0;34m\u001b[0m\u001b[0;34m\u001b[0m\u001b[0m\n\u001b[0;32m--> 355\u001b[0;31m             \u001b[0;32mraise\u001b[0m \u001b[0mJSONDecodeError\u001b[0m\u001b[0;34m(\u001b[0m\u001b[0;34m\"Expecting value\"\u001b[0m\u001b[0;34m,\u001b[0m \u001b[0ms\u001b[0m\u001b[0;34m,\u001b[0m \u001b[0merr\u001b[0m\u001b[0;34m.\u001b[0m\u001b[0mvalue\u001b[0m\u001b[0;34m)\u001b[0m \u001b[0;32mfrom\u001b[0m \u001b[0;32mNone\u001b[0m\u001b[0;34m\u001b[0m\u001b[0;34m\u001b[0m\u001b[0m\n\u001b[0m\u001b[1;32m    356\u001b[0m         \u001b[0;32mreturn\u001b[0m \u001b[0mobj\u001b[0m\u001b[0;34m,\u001b[0m \u001b[0mend\u001b[0m\u001b[0;34m\u001b[0m\u001b[0;34m\u001b[0m\u001b[0m\n",
            "\u001b[0;31mJSONDecodeError\u001b[0m: Expecting value: line 1 column 1 (char 0)",
            "\nDuring handling of the above exception, another exception occurred:\n",
            "\u001b[0;31mJSONDecodeError\u001b[0m                           Traceback (most recent call last)",
            "\u001b[0;32m<ipython-input-22-b7f628a55179>\u001b[0m in \u001b[0;36m<cell line: 7>\u001b[0;34m()\u001b[0m\n\u001b[1;32m      5\u001b[0m \u001b[0murl\u001b[0m \u001b[0;34m=\u001b[0m \u001b[0;34mf'https://xn--80az8a.xn--d1aqf.xn--p1ai/%D1%81%D0%B5%D1%80%D0%B2%D0%B8%D1%81%D1%8B/api/kn/object?offset={offset_}&limit={limit_}&sortField=devId.devShortCleanNm&sortType=asc&objStatus=0'\u001b[0m\u001b[0;34m\u001b[0m\u001b[0;34m\u001b[0m\u001b[0m\n\u001b[1;32m      6\u001b[0m \u001b[0mres\u001b[0m \u001b[0;34m=\u001b[0m \u001b[0mrequests\u001b[0m\u001b[0;34m.\u001b[0m\u001b[0mget\u001b[0m\u001b[0;34m(\u001b[0m\u001b[0murl\u001b[0m\u001b[0;34m)\u001b[0m\u001b[0;34m\u001b[0m\u001b[0;34m\u001b[0m\u001b[0m\n\u001b[0;32m----> 7\u001b[0;31m \u001b[0mobjects_data\u001b[0m \u001b[0;34m=\u001b[0m \u001b[0mres\u001b[0m\u001b[0;34m.\u001b[0m\u001b[0mjson\u001b[0m\u001b[0;34m(\u001b[0m\u001b[0;34m)\u001b[0m\u001b[0;34m\u001b[0m\u001b[0;34m\u001b[0m\u001b[0m\n\u001b[0m\u001b[1;32m      8\u001b[0m \u001b[0mobjects_data\u001b[0m\u001b[0;34m.\u001b[0m\u001b[0mget\u001b[0m\u001b[0;34m(\u001b[0m\u001b[0;34m'data'\u001b[0m\u001b[0;34m)\u001b[0m\u001b[0;34m.\u001b[0m\u001b[0mget\u001b[0m\u001b[0;34m(\u001b[0m\u001b[0;34m'list'\u001b[0m\u001b[0;34m)\u001b[0m\u001b[0;34m[\u001b[0m\u001b[0;36m0\u001b[0m\u001b[0;34m]\u001b[0m\u001b[0;34m\u001b[0m\u001b[0;34m\u001b[0m\u001b[0m\n",
            "\u001b[0;32m/usr/local/lib/python3.10/dist-packages/requests/models.py\u001b[0m in \u001b[0;36mjson\u001b[0;34m(self, **kwargs)\u001b[0m\n\u001b[1;32m    973\u001b[0m             \u001b[0;31m# Catch JSON-related errors and raise as requests.JSONDecodeError\u001b[0m\u001b[0;34m\u001b[0m\u001b[0;34m\u001b[0m\u001b[0m\n\u001b[1;32m    974\u001b[0m             \u001b[0;31m# This aliases json.JSONDecodeError and simplejson.JSONDecodeError\u001b[0m\u001b[0;34m\u001b[0m\u001b[0;34m\u001b[0m\u001b[0m\n\u001b[0;32m--> 975\u001b[0;31m             \u001b[0;32mraise\u001b[0m \u001b[0mRequestsJSONDecodeError\u001b[0m\u001b[0;34m(\u001b[0m\u001b[0me\u001b[0m\u001b[0;34m.\u001b[0m\u001b[0mmsg\u001b[0m\u001b[0;34m,\u001b[0m \u001b[0me\u001b[0m\u001b[0;34m.\u001b[0m\u001b[0mdoc\u001b[0m\u001b[0;34m,\u001b[0m \u001b[0me\u001b[0m\u001b[0;34m.\u001b[0m\u001b[0mpos\u001b[0m\u001b[0;34m)\u001b[0m\u001b[0;34m\u001b[0m\u001b[0;34m\u001b[0m\u001b[0m\n\u001b[0m\u001b[1;32m    976\u001b[0m \u001b[0;34m\u001b[0m\u001b[0m\n\u001b[1;32m    977\u001b[0m     \u001b[0;34m@\u001b[0m\u001b[0mproperty\u001b[0m\u001b[0;34m\u001b[0m\u001b[0;34m\u001b[0m\u001b[0m\n",
            "\u001b[0;31mJSONDecodeError\u001b[0m: Expecting value: line 1 column 1 (char 0)"
          ]
        }
      ],
      "source": [
        "# Для скачивания данных\n",
        "\n",
        "offset_ = 1 # размер шага\n",
        "limit_ = 100 # количество объектов в одном ответе api\n",
        "url = f'https://xn--80az8a.xn--d1aqf.xn--p1ai/%D1%81%D0%B5%D1%80%D0%B2%D0%B8%D1%81%D1%8B/api/kn/object?offset={offset_}&limit={limit_}&sortField=devId.devShortCleanNm&sortType=asc&objStatus=0'\n",
        "res = requests.get(url)\n",
        "objects_data = res.json()\n",
        "objects_data.get('data').get('list')[0]"
      ],
      "metadata": {
        "pycharm": {
          "name": "#%%\n"
        },
        "ExecuteTime": {
          "end_time": "2023-12-07T13:23:43.646382Z",
          "start_time": "2023-12-07T13:23:42.721748Z"
        },
        "colab": {
          "base_uri": "https://localhost:8080/",
          "height": 408
        },
        "id": "UPsXdS31oaP4",
        "outputId": "63f24b94-a276-4b99-da0b-56653e44b845"
      }
    },
    {
      "cell_type": "code",
      "execution_count": 23,
      "outputs": [
        {
          "output_type": "error",
          "ename": "NameError",
          "evalue": "name 'objects_data' is not defined",
          "traceback": [
            "\u001b[0;31m---------------------------------------------------------------------------\u001b[0m",
            "\u001b[0;31mNameError\u001b[0m                                 Traceback (most recent call last)",
            "\u001b[0;32m<ipython-input-23-57d95c3665e5>\u001b[0m in \u001b[0;36m<cell line: 1>\u001b[0;34m()\u001b[0m\n\u001b[0;32m----> 1\u001b[0;31m \u001b[0mobjects_list\u001b[0m \u001b[0;34m=\u001b[0m \u001b[0mobjects_data\u001b[0m\u001b[0;34m.\u001b[0m\u001b[0mget\u001b[0m\u001b[0;34m(\u001b[0m\u001b[0;34m'data'\u001b[0m\u001b[0;34m)\u001b[0m\u001b[0;34m.\u001b[0m\u001b[0mget\u001b[0m\u001b[0;34m(\u001b[0m\u001b[0;34m'list'\u001b[0m\u001b[0;34m)\u001b[0m\u001b[0;34m\u001b[0m\u001b[0;34m\u001b[0m\u001b[0m\n\u001b[0m\u001b[1;32m      2\u001b[0m \u001b[0mobjids\u001b[0m \u001b[0;34m=\u001b[0m \u001b[0;34m[\u001b[0m\u001b[0mx\u001b[0m\u001b[0;34m.\u001b[0m\u001b[0mget\u001b[0m\u001b[0;34m(\u001b[0m\u001b[0;34m'objId'\u001b[0m\u001b[0;34m)\u001b[0m \u001b[0;32mfor\u001b[0m \u001b[0mx\u001b[0m \u001b[0;32min\u001b[0m \u001b[0mobjects_list\u001b[0m\u001b[0;34m]\u001b[0m\u001b[0;34m\u001b[0m\u001b[0;34m\u001b[0m\u001b[0m\n\u001b[1;32m      3\u001b[0m \u001b[0mobjids\u001b[0m\u001b[0;34m[\u001b[0m\u001b[0;34m:\u001b[0m\u001b[0;36m10\u001b[0m\u001b[0;34m]\u001b[0m\u001b[0;34m\u001b[0m\u001b[0;34m\u001b[0m\u001b[0m\n",
            "\u001b[0;31mNameError\u001b[0m: name 'objects_data' is not defined"
          ]
        }
      ],
      "source": [
        "objects_list = objects_data.get('data').get('list')\n",
        "objids = [x.get('objId') for x in objects_list]\n",
        "objids[:10]"
      ],
      "metadata": {
        "pycharm": {
          "name": "#%%\n"
        },
        "colab": {
          "base_uri": "https://localhost:8080/",
          "height": 176
        },
        "id": "sbHee22VoaP7",
        "outputId": "bbcaab4a-cbdc-47d7-b23f-71c12535a91a"
      }
    },
    {
      "cell_type": "markdown",
      "source": [
        "# Данные по определенному объекту"
      ],
      "metadata": {
        "collapsed": false,
        "pycharm": {
          "name": "#%% md\n"
        },
        "id": "HjefI7proaP9"
      }
    },
    {
      "cell_type": "code",
      "execution_count": null,
      "outputs": [],
      "source": [
        "# Для скачивания данных по определенному объекту, нужно добавить его id в конец строки запроса\n",
        "url = f'https://xn--80az8a.xn--d1aqf.xn--p1ai/%D1%81%D0%B5%D1%80%D0%B2%D0%B8%D1%81%D1%8B/api/object/29679'"
      ],
      "metadata": {
        "pycharm": {
          "name": "#%%\n"
        },
        "id": "QU2l5mEcoaP-"
      }
    },
    {
      "cell_type": "code",
      "execution_count": null,
      "outputs": [
        {
          "data": {
            "text/plain": "{'data': {'id': 29679,\n  'pdId': 124647,\n  'developer': {'devId': 7424,\n   'devShortCleanNm': '212-2',\n   'devShortNm': '212-2',\n   'devFullCleanNm': '212-2',\n   'problObjCnt': 0,\n   'buildObjCnt': 2,\n   'comissObjCnt': 0,\n   'regRegionDesc': 'Ростовская область',\n   'devPhoneNum': '+7(961)285-90-10',\n   'devSite': 'taganrogjsk.wixsite.com',\n   'devEmail': 'kirpol76@gmail.com',\n   'devInn': '6154572922',\n   'devOgrn': '1116154005923',\n   'devKpp': '615401001',\n   'devLegalAddr': 'Ростовская область, город Таганрог, улица Свободы/Трудовых резервов дом 25/9',\n   'devFactAddr': 'обл Ростовская город Таганрог улица Сергея Шило д. 212-2',\n   'lastRpdId': 126093,\n   'fundGuarantyFlg': 0,\n   'devOrgRegRegionCd': 61,\n   'devEmplMainFullNm': 'Снимщикова Ольга Викторовна',\n   'orgForm': {'id': 20,\n    'fullForm': 'Жилищный или жилищно-строительный кооператив',\n    'shortForm': 'ЖСК'},\n   'objGuarantyEscrowFlg': 0,\n   'govFundFlg': 0},\n  'region': 61,\n  'address': 'г Таганрог',\n  'objElemLivingCnt': 18,\n  'objReady100PercDt': '2020-03-31',\n  'wallMaterialShortDesc': 'Другое',\n  'objLkFinishTypeDesc': 'Под ключ',\n  'objLkFreePlanDesc': 'Есть',\n  'objElemParkingCnt': 0,\n  'objSquareLiving': 1519.0,\n  'rpdNum': '61-000818',\n  'rpdPdfLink': 'https://xn--80az8a.xn--d1aqf.xn--p1ai/api/ext/file/092af1ad-2b49-4150-8a92-293031e2f79a',\n  'rpdIssueDttm': '20-03-2019 18:41',\n  'objLkLatitude': '47.2238',\n  'objLkLongitude': '38.8513',\n  'objCompensFundFlg': 0,\n  'objProblemFlg': 0,\n  'objLkClassDesc': 'Комфорт',\n  'loadDttm': '11-08-2022 01:23',\n  'photoRenderDTO': [],\n  'objGuarantyEscrowFlg': 0,\n  'objectType': 'normal',\n  'residentialBuildings': 1,\n  'newBuildingId': 40800,\n  'objFlatCnt': 18,\n  'objFlatSq': '1519.0',\n  'objNonlivElemCnt': 0,\n  'objStatus': 0,\n  'isAvailableWantLiveHere': True,\n  'objInfrstrBicycleLaneFlg': 0,\n  'objInfrstrRampFlg': 0,\n  'objInfrstrCurbLoweringFlg': 0,\n  'objectTransportInfo': [],\n  'conclusion': False,\n  'objGreenHouseFlg': 0,\n  'objEnergyEffShortDesc': 'Не нормируется',\n  'infrastructureIndexValue': 7},\n 'errcode': '0'}"
          },
          "execution_count": 20,
          "metadata": {},
          "output_type": "execute_result"
        }
      ],
      "source": [
        "res = requests.get(url)\n",
        "res.json()"
      ],
      "metadata": {
        "pycharm": {
          "name": "#%%\n"
        },
        "id": "9D-wbiaxoaP_",
        "outputId": "9c9992b1-47c5-4efd-ec53-5c0f0f859096"
      }
    },
    {
      "cell_type": "code",
      "execution_count": null,
      "outputs": [],
      "source": [],
      "metadata": {
        "pycharm": {
          "name": "#%%\n"
        },
        "id": "PW0w5I8GoaQA"
      }
    },
    {
      "cell_type": "markdown",
      "source": [
        "# Альтернативный источник данных\n"
      ],
      "metadata": {
        "collapsed": false,
        "id": "eZvTDlCpoaQB"
      }
    },
    {
      "cell_type": "markdown",
      "source": [
        "* Попробуйте собрать датафрэйм об объектах недвижимости с сайта cian.ru, используя репозиторий https://github.com/lenarsaitov/cianparser.git"
      ],
      "metadata": {
        "collapsed": false,
        "id": "zHWQWIUHoaQB"
      }
    },
    {
      "cell_type": "code",
      "execution_count": 24,
      "outputs": [
        {
          "output_type": "stream",
          "name": "stdout",
          "text": [
            "Collecting git+https://github.com/lenarsaitov/cianparser.git\n",
            "  Cloning https://github.com/lenarsaitov/cianparser.git to /tmp/pip-req-build-z7z64gen\n",
            "  Running command git clone --filter=blob:none --quiet https://github.com/lenarsaitov/cianparser.git /tmp/pip-req-build-z7z64gen\n",
            "  Resolved https://github.com/lenarsaitov/cianparser.git to commit 236352a200b08b27c24d14b18939b4c34691cbb2\n",
            "  Preparing metadata (setup.py) ... \u001b[?25l\u001b[?25hdone\n",
            "Requirement already satisfied: cloudscraper in /usr/local/lib/python3.10/dist-packages (from cianparser==1.0.4) (1.2.71)\n",
            "Requirement already satisfied: beautifulsoup4 in /usr/local/lib/python3.10/dist-packages (from cianparser==1.0.4) (4.12.3)\n",
            "Requirement already satisfied: transliterate in /usr/local/lib/python3.10/dist-packages (from cianparser==1.0.4) (1.10.2)\n",
            "Requirement already satisfied: lxml in /usr/local/lib/python3.10/dist-packages (from cianparser==1.0.4) (4.9.4)\n",
            "Requirement already satisfied: datetime in /usr/local/lib/python3.10/dist-packages (from cianparser==1.0.4) (5.5)\n",
            "Requirement already satisfied: soupsieve>1.2 in /usr/local/lib/python3.10/dist-packages (from beautifulsoup4->cianparser==1.0.4) (2.5)\n",
            "Requirement already satisfied: pyparsing>=2.4.7 in /usr/local/lib/python3.10/dist-packages (from cloudscraper->cianparser==1.0.4) (3.1.2)\n",
            "Requirement already satisfied: requests>=2.9.2 in /usr/local/lib/python3.10/dist-packages (from cloudscraper->cianparser==1.0.4) (2.31.0)\n",
            "Requirement already satisfied: requests-toolbelt>=0.9.1 in /usr/local/lib/python3.10/dist-packages (from cloudscraper->cianparser==1.0.4) (1.0.0)\n",
            "Requirement already satisfied: zope.interface in /usr/local/lib/python3.10/dist-packages (from datetime->cianparser==1.0.4) (6.4.post2)\n",
            "Requirement already satisfied: pytz in /usr/local/lib/python3.10/dist-packages (from datetime->cianparser==1.0.4) (2023.4)\n",
            "Requirement already satisfied: six>=1.1.0 in /usr/local/lib/python3.10/dist-packages (from transliterate->cianparser==1.0.4) (1.16.0)\n",
            "Requirement already satisfied: charset-normalizer<4,>=2 in /usr/local/lib/python3.10/dist-packages (from requests>=2.9.2->cloudscraper->cianparser==1.0.4) (3.3.2)\n",
            "Requirement already satisfied: idna<4,>=2.5 in /usr/local/lib/python3.10/dist-packages (from requests>=2.9.2->cloudscraper->cianparser==1.0.4) (3.7)\n",
            "Requirement already satisfied: urllib3<3,>=1.21.1 in /usr/local/lib/python3.10/dist-packages (from requests>=2.9.2->cloudscraper->cianparser==1.0.4) (2.0.7)\n",
            "Requirement already satisfied: certifi>=2017.4.17 in /usr/local/lib/python3.10/dist-packages (from requests>=2.9.2->cloudscraper->cianparser==1.0.4) (2024.6.2)\n",
            "Requirement already satisfied: setuptools in /usr/local/lib/python3.10/dist-packages (from zope.interface->datetime->cianparser==1.0.4) (67.7.2)\n"
          ]
        }
      ],
      "source": [
        " ! pip install git+https://github.com/lenarsaitov/cianparser.git"
      ],
      "metadata": {
        "colab": {
          "base_uri": "https://localhost:8080/"
        },
        "id": "u8bpxGeaoaQC",
        "outputId": "76d084ec-d628-4370-f3ba-402a0034b52f"
      }
    },
    {
      "cell_type": "code",
      "execution_count": 25,
      "outputs": [
        {
          "output_type": "stream",
          "name": "stdout",
          "text": [
            "\n",
            "                              Preparing to collect information from pages..\n",
            "The absolute path to the file: \n",
            "/content/cian_flat_sale_1_20_moskva_06_Jul_2024_20_02_58_719281.csv \n",
            "\n",
            "The page from which the collection of information begins: \n",
            " https://cian.ru/cat.php?engine_version=2&p=1&with_neighbors=0&region=1&deal_type=sale&offer_type=flat&room1=1&room2=1\n",
            "\n",
            "Collecting information from pages with list of offers\n",
            "\n",
            "\n",
            "\n",
            "\n",
            "\n",
            "\n",
            "\n",
            "\n",
            "\n",
            "\n",
            "\n",
            "\n",
            "\n",
            "\n",
            "\n",
            "\n",
            "\n",
            "\n",
            "\n",
            "\n",
            "\n",
            "The collection of information from the pages with list of offers is completed\n",
            "Total number of parsed offers: 546. \n",
            "{'author': 'VESPER', 'author_type': 'developer', 'url': 'https://www.cian.ru/sale/flat/262519758/', 'location': 'Москва', 'deal_type': 'sale', 'accommodation_type': 'flat', 'floor': 5, 'floors_count': 21, 'rooms_count': 2, 'total_meters': 110.6, 'price': 103787040, 'district': 'Пресненский', 'street': ' Костикова', 'house_number': '4к1', 'underground': 'Улица 1905 года', 'residential_complex': 'Lucky'}\n"
          ]
        }
      ],
      "source": [
        "import cianparser\n",
        "\n",
        "moscow_parser = cianparser.CianParser(location=\"Москва\")\n",
        "data = moscow_parser.get_flats(deal_type=\"sale\", rooms=(1, 2), with_saving_csv=True, additional_settings={\"start_page\":1, \"end_page\":20})\n",
        "\n",
        "print(data[0])"
      ],
      "metadata": {
        "colab": {
          "base_uri": "https://localhost:8080/"
        },
        "id": "9Lagai1YoaQH",
        "outputId": "0f303b43-195a-44b2-b462-fb8a64ba9166"
      }
    },
    {
      "cell_type": "code",
      "execution_count": 26,
      "outputs": [],
      "source": [
        " import pandas as pd"
      ],
      "metadata": {
        "id": "dXP6Zcx7oaQH"
      }
    },
    {
      "cell_type": "code",
      "source": [
        "df = pd.json_normalize(data)"
      ],
      "metadata": {
        "id": "a2bKaRGZpX2W"
      },
      "execution_count": 27,
      "outputs": []
    },
    {
      "cell_type": "code",
      "source": [
        "df.head()"
      ],
      "metadata": {
        "colab": {
          "base_uri": "https://localhost:8080/",
          "height": 313
        },
        "id": "NRNqFWiSpZY1",
        "outputId": "8cc45e06-b4b6-4ce6-9a07-efe7f5610978"
      },
      "execution_count": 28,
      "outputs": [
        {
          "output_type": "execute_result",
          "data": {
            "text/plain": [
              "         author        author_type                                       url  \\\n",
              "0        VESPER          developer  https://www.cian.ru/sale/flat/262519758/   \n",
              "1  ID 108172779  real_estate_agent  https://www.cian.ru/sale/flat/301496936/   \n",
              "2   Tekta Group          developer  https://www.cian.ru/sale/flat/301259751/   \n",
              "3       SHOW ME  real_estate_agent  https://www.cian.ru/sale/flat/302081797/   \n",
              "4        VESPER          developer  https://www.cian.ru/sale/flat/286258299/   \n",
              "\n",
              "  location deal_type accommodation_type  floor  floors_count  rooms_count  \\\n",
              "0   Москва      sale               flat      5            21            2   \n",
              "1   Москва      sale               flat      7             8            1   \n",
              "2   Москва      sale               flat     23            42            2   \n",
              "3   Москва      sale               flat      2            10            2   \n",
              "4   Москва      sale               flat      5             9            2   \n",
              "\n",
              "   total_meters        price     district                    street  \\\n",
              "0         110.6  103787040.0  Пресненский                 Костикова   \n",
              "1          53.2   58786000.0    Таганский        Славянская площадь   \n",
              "2          41.6   25837760.0     Котловка  Севастопольский проспект   \n",
              "3          69.4   85000000.0     Тверской                    Палиха   \n",
              "4         104.2  143796000.0     Тверской      1-я Тверская-Ямская    \n",
              "\n",
              "  house_number      underground       residential_complex  \n",
              "0          4к1  Улица 1905 года                     Lucky  \n",
              "1        2/5с1      Китай-город                     LUMIN  \n",
              "2          22А         Нагорная                    Eniteo  \n",
              "3            4    Менделеевская  Клубный дом Maison Rouge  \n",
              "4            2       Маяковская          Vesper Tverskaya  "
            ],
            "text/html": [
              "\n",
              "  <div id=\"df-934e79d6-1102-4889-83d0-69d115fffecc\" class=\"colab-df-container\">\n",
              "    <div>\n",
              "<style scoped>\n",
              "    .dataframe tbody tr th:only-of-type {\n",
              "        vertical-align: middle;\n",
              "    }\n",
              "\n",
              "    .dataframe tbody tr th {\n",
              "        vertical-align: top;\n",
              "    }\n",
              "\n",
              "    .dataframe thead th {\n",
              "        text-align: right;\n",
              "    }\n",
              "</style>\n",
              "<table border=\"1\" class=\"dataframe\">\n",
              "  <thead>\n",
              "    <tr style=\"text-align: right;\">\n",
              "      <th></th>\n",
              "      <th>author</th>\n",
              "      <th>author_type</th>\n",
              "      <th>url</th>\n",
              "      <th>location</th>\n",
              "      <th>deal_type</th>\n",
              "      <th>accommodation_type</th>\n",
              "      <th>floor</th>\n",
              "      <th>floors_count</th>\n",
              "      <th>rooms_count</th>\n",
              "      <th>total_meters</th>\n",
              "      <th>price</th>\n",
              "      <th>district</th>\n",
              "      <th>street</th>\n",
              "      <th>house_number</th>\n",
              "      <th>underground</th>\n",
              "      <th>residential_complex</th>\n",
              "    </tr>\n",
              "  </thead>\n",
              "  <tbody>\n",
              "    <tr>\n",
              "      <th>0</th>\n",
              "      <td>VESPER</td>\n",
              "      <td>developer</td>\n",
              "      <td>https://www.cian.ru/sale/flat/262519758/</td>\n",
              "      <td>Москва</td>\n",
              "      <td>sale</td>\n",
              "      <td>flat</td>\n",
              "      <td>5</td>\n",
              "      <td>21</td>\n",
              "      <td>2</td>\n",
              "      <td>110.6</td>\n",
              "      <td>103787040.0</td>\n",
              "      <td>Пресненский</td>\n",
              "      <td>Костикова</td>\n",
              "      <td>4к1</td>\n",
              "      <td>Улица 1905 года</td>\n",
              "      <td>Lucky</td>\n",
              "    </tr>\n",
              "    <tr>\n",
              "      <th>1</th>\n",
              "      <td>ID 108172779</td>\n",
              "      <td>real_estate_agent</td>\n",
              "      <td>https://www.cian.ru/sale/flat/301496936/</td>\n",
              "      <td>Москва</td>\n",
              "      <td>sale</td>\n",
              "      <td>flat</td>\n",
              "      <td>7</td>\n",
              "      <td>8</td>\n",
              "      <td>1</td>\n",
              "      <td>53.2</td>\n",
              "      <td>58786000.0</td>\n",
              "      <td>Таганский</td>\n",
              "      <td>Славянская площадь</td>\n",
              "      <td>2/5с1</td>\n",
              "      <td>Китай-город</td>\n",
              "      <td>LUMIN</td>\n",
              "    </tr>\n",
              "    <tr>\n",
              "      <th>2</th>\n",
              "      <td>Tekta Group</td>\n",
              "      <td>developer</td>\n",
              "      <td>https://www.cian.ru/sale/flat/301259751/</td>\n",
              "      <td>Москва</td>\n",
              "      <td>sale</td>\n",
              "      <td>flat</td>\n",
              "      <td>23</td>\n",
              "      <td>42</td>\n",
              "      <td>2</td>\n",
              "      <td>41.6</td>\n",
              "      <td>25837760.0</td>\n",
              "      <td>Котловка</td>\n",
              "      <td>Севастопольский проспект</td>\n",
              "      <td>22А</td>\n",
              "      <td>Нагорная</td>\n",
              "      <td>Eniteo</td>\n",
              "    </tr>\n",
              "    <tr>\n",
              "      <th>3</th>\n",
              "      <td>SHOW ME</td>\n",
              "      <td>real_estate_agent</td>\n",
              "      <td>https://www.cian.ru/sale/flat/302081797/</td>\n",
              "      <td>Москва</td>\n",
              "      <td>sale</td>\n",
              "      <td>flat</td>\n",
              "      <td>2</td>\n",
              "      <td>10</td>\n",
              "      <td>2</td>\n",
              "      <td>69.4</td>\n",
              "      <td>85000000.0</td>\n",
              "      <td>Тверской</td>\n",
              "      <td>Палиха</td>\n",
              "      <td>4</td>\n",
              "      <td>Менделеевская</td>\n",
              "      <td>Клубный дом Maison Rouge</td>\n",
              "    </tr>\n",
              "    <tr>\n",
              "      <th>4</th>\n",
              "      <td>VESPER</td>\n",
              "      <td>developer</td>\n",
              "      <td>https://www.cian.ru/sale/flat/286258299/</td>\n",
              "      <td>Москва</td>\n",
              "      <td>sale</td>\n",
              "      <td>flat</td>\n",
              "      <td>5</td>\n",
              "      <td>9</td>\n",
              "      <td>2</td>\n",
              "      <td>104.2</td>\n",
              "      <td>143796000.0</td>\n",
              "      <td>Тверской</td>\n",
              "      <td>1-я Тверская-Ямская</td>\n",
              "      <td>2</td>\n",
              "      <td>Маяковская</td>\n",
              "      <td>Vesper Tverskaya</td>\n",
              "    </tr>\n",
              "  </tbody>\n",
              "</table>\n",
              "</div>\n",
              "    <div class=\"colab-df-buttons\">\n",
              "\n",
              "  <div class=\"colab-df-container\">\n",
              "    <button class=\"colab-df-convert\" onclick=\"convertToInteractive('df-934e79d6-1102-4889-83d0-69d115fffecc')\"\n",
              "            title=\"Convert this dataframe to an interactive table.\"\n",
              "            style=\"display:none;\">\n",
              "\n",
              "  <svg xmlns=\"http://www.w3.org/2000/svg\" height=\"24px\" viewBox=\"0 -960 960 960\">\n",
              "    <path d=\"M120-120v-720h720v720H120Zm60-500h600v-160H180v160Zm220 220h160v-160H400v160Zm0 220h160v-160H400v160ZM180-400h160v-160H180v160Zm440 0h160v-160H620v160ZM180-180h160v-160H180v160Zm440 0h160v-160H620v160Z\"/>\n",
              "  </svg>\n",
              "    </button>\n",
              "\n",
              "  <style>\n",
              "    .colab-df-container {\n",
              "      display:flex;\n",
              "      gap: 12px;\n",
              "    }\n",
              "\n",
              "    .colab-df-convert {\n",
              "      background-color: #E8F0FE;\n",
              "      border: none;\n",
              "      border-radius: 50%;\n",
              "      cursor: pointer;\n",
              "      display: none;\n",
              "      fill: #1967D2;\n",
              "      height: 32px;\n",
              "      padding: 0 0 0 0;\n",
              "      width: 32px;\n",
              "    }\n",
              "\n",
              "    .colab-df-convert:hover {\n",
              "      background-color: #E2EBFA;\n",
              "      box-shadow: 0px 1px 2px rgba(60, 64, 67, 0.3), 0px 1px 3px 1px rgba(60, 64, 67, 0.15);\n",
              "      fill: #174EA6;\n",
              "    }\n",
              "\n",
              "    .colab-df-buttons div {\n",
              "      margin-bottom: 4px;\n",
              "    }\n",
              "\n",
              "    [theme=dark] .colab-df-convert {\n",
              "      background-color: #3B4455;\n",
              "      fill: #D2E3FC;\n",
              "    }\n",
              "\n",
              "    [theme=dark] .colab-df-convert:hover {\n",
              "      background-color: #434B5C;\n",
              "      box-shadow: 0px 1px 3px 1px rgba(0, 0, 0, 0.15);\n",
              "      filter: drop-shadow(0px 1px 2px rgba(0, 0, 0, 0.3));\n",
              "      fill: #FFFFFF;\n",
              "    }\n",
              "  </style>\n",
              "\n",
              "    <script>\n",
              "      const buttonEl =\n",
              "        document.querySelector('#df-934e79d6-1102-4889-83d0-69d115fffecc button.colab-df-convert');\n",
              "      buttonEl.style.display =\n",
              "        google.colab.kernel.accessAllowed ? 'block' : 'none';\n",
              "\n",
              "      async function convertToInteractive(key) {\n",
              "        const element = document.querySelector('#df-934e79d6-1102-4889-83d0-69d115fffecc');\n",
              "        const dataTable =\n",
              "          await google.colab.kernel.invokeFunction('convertToInteractive',\n",
              "                                                    [key], {});\n",
              "        if (!dataTable) return;\n",
              "\n",
              "        const docLinkHtml = 'Like what you see? Visit the ' +\n",
              "          '<a target=\"_blank\" href=https://colab.research.google.com/notebooks/data_table.ipynb>data table notebook</a>'\n",
              "          + ' to learn more about interactive tables.';\n",
              "        element.innerHTML = '';\n",
              "        dataTable['output_type'] = 'display_data';\n",
              "        await google.colab.output.renderOutput(dataTable, element);\n",
              "        const docLink = document.createElement('div');\n",
              "        docLink.innerHTML = docLinkHtml;\n",
              "        element.appendChild(docLink);\n",
              "      }\n",
              "    </script>\n",
              "  </div>\n",
              "\n",
              "\n",
              "<div id=\"df-27638e21-3e6e-4621-9d81-168779fb64ac\">\n",
              "  <button class=\"colab-df-quickchart\" onclick=\"quickchart('df-27638e21-3e6e-4621-9d81-168779fb64ac')\"\n",
              "            title=\"Suggest charts\"\n",
              "            style=\"display:none;\">\n",
              "\n",
              "<svg xmlns=\"http://www.w3.org/2000/svg\" height=\"24px\"viewBox=\"0 0 24 24\"\n",
              "     width=\"24px\">\n",
              "    <g>\n",
              "        <path d=\"M19 3H5c-1.1 0-2 .9-2 2v14c0 1.1.9 2 2 2h14c1.1 0 2-.9 2-2V5c0-1.1-.9-2-2-2zM9 17H7v-7h2v7zm4 0h-2V7h2v10zm4 0h-2v-4h2v4z\"/>\n",
              "    </g>\n",
              "</svg>\n",
              "  </button>\n",
              "\n",
              "<style>\n",
              "  .colab-df-quickchart {\n",
              "      --bg-color: #E8F0FE;\n",
              "      --fill-color: #1967D2;\n",
              "      --hover-bg-color: #E2EBFA;\n",
              "      --hover-fill-color: #174EA6;\n",
              "      --disabled-fill-color: #AAA;\n",
              "      --disabled-bg-color: #DDD;\n",
              "  }\n",
              "\n",
              "  [theme=dark] .colab-df-quickchart {\n",
              "      --bg-color: #3B4455;\n",
              "      --fill-color: #D2E3FC;\n",
              "      --hover-bg-color: #434B5C;\n",
              "      --hover-fill-color: #FFFFFF;\n",
              "      --disabled-bg-color: #3B4455;\n",
              "      --disabled-fill-color: #666;\n",
              "  }\n",
              "\n",
              "  .colab-df-quickchart {\n",
              "    background-color: var(--bg-color);\n",
              "    border: none;\n",
              "    border-radius: 50%;\n",
              "    cursor: pointer;\n",
              "    display: none;\n",
              "    fill: var(--fill-color);\n",
              "    height: 32px;\n",
              "    padding: 0;\n",
              "    width: 32px;\n",
              "  }\n",
              "\n",
              "  .colab-df-quickchart:hover {\n",
              "    background-color: var(--hover-bg-color);\n",
              "    box-shadow: 0 1px 2px rgba(60, 64, 67, 0.3), 0 1px 3px 1px rgba(60, 64, 67, 0.15);\n",
              "    fill: var(--button-hover-fill-color);\n",
              "  }\n",
              "\n",
              "  .colab-df-quickchart-complete:disabled,\n",
              "  .colab-df-quickchart-complete:disabled:hover {\n",
              "    background-color: var(--disabled-bg-color);\n",
              "    fill: var(--disabled-fill-color);\n",
              "    box-shadow: none;\n",
              "  }\n",
              "\n",
              "  .colab-df-spinner {\n",
              "    border: 2px solid var(--fill-color);\n",
              "    border-color: transparent;\n",
              "    border-bottom-color: var(--fill-color);\n",
              "    animation:\n",
              "      spin 1s steps(1) infinite;\n",
              "  }\n",
              "\n",
              "  @keyframes spin {\n",
              "    0% {\n",
              "      border-color: transparent;\n",
              "      border-bottom-color: var(--fill-color);\n",
              "      border-left-color: var(--fill-color);\n",
              "    }\n",
              "    20% {\n",
              "      border-color: transparent;\n",
              "      border-left-color: var(--fill-color);\n",
              "      border-top-color: var(--fill-color);\n",
              "    }\n",
              "    30% {\n",
              "      border-color: transparent;\n",
              "      border-left-color: var(--fill-color);\n",
              "      border-top-color: var(--fill-color);\n",
              "      border-right-color: var(--fill-color);\n",
              "    }\n",
              "    40% {\n",
              "      border-color: transparent;\n",
              "      border-right-color: var(--fill-color);\n",
              "      border-top-color: var(--fill-color);\n",
              "    }\n",
              "    60% {\n",
              "      border-color: transparent;\n",
              "      border-right-color: var(--fill-color);\n",
              "    }\n",
              "    80% {\n",
              "      border-color: transparent;\n",
              "      border-right-color: var(--fill-color);\n",
              "      border-bottom-color: var(--fill-color);\n",
              "    }\n",
              "    90% {\n",
              "      border-color: transparent;\n",
              "      border-bottom-color: var(--fill-color);\n",
              "    }\n",
              "  }\n",
              "</style>\n",
              "\n",
              "  <script>\n",
              "    async function quickchart(key) {\n",
              "      const quickchartButtonEl =\n",
              "        document.querySelector('#' + key + ' button');\n",
              "      quickchartButtonEl.disabled = true;  // To prevent multiple clicks.\n",
              "      quickchartButtonEl.classList.add('colab-df-spinner');\n",
              "      try {\n",
              "        const charts = await google.colab.kernel.invokeFunction(\n",
              "            'suggestCharts', [key], {});\n",
              "      } catch (error) {\n",
              "        console.error('Error during call to suggestCharts:', error);\n",
              "      }\n",
              "      quickchartButtonEl.classList.remove('colab-df-spinner');\n",
              "      quickchartButtonEl.classList.add('colab-df-quickchart-complete');\n",
              "    }\n",
              "    (() => {\n",
              "      let quickchartButtonEl =\n",
              "        document.querySelector('#df-27638e21-3e6e-4621-9d81-168779fb64ac button');\n",
              "      quickchartButtonEl.style.display =\n",
              "        google.colab.kernel.accessAllowed ? 'block' : 'none';\n",
              "    })();\n",
              "  </script>\n",
              "</div>\n",
              "    </div>\n",
              "  </div>\n"
            ],
            "application/vnd.google.colaboratory.intrinsic+json": {
              "type": "dataframe",
              "variable_name": "df",
              "summary": "{\n  \"name\": \"df\",\n  \"rows\": 546,\n  \"fields\": [\n    {\n      \"column\": \"author\",\n      \"properties\": {\n        \"dtype\": \"category\",\n        \"num_unique_values\": 168,\n        \"samples\": [\n          \"\\u041d\\u043e\\u0432\\u044b\\u0435 \\u0412\\u0430\\u0442\\u0443\\u0442\\u0438\\u043d\\u043a\\u0438\",\n          \"White and Broughton\",\n          \"ID 221886\"\n        ],\n        \"semantic_type\": \"\",\n        \"description\": \"\"\n      }\n    },\n    {\n      \"column\": \"author_type\",\n      \"properties\": {\n        \"dtype\": \"category\",\n        \"num_unique_values\": 8,\n        \"samples\": [\n          \"real_estate_agent\",\n          \"official_representative\",\n          \"developer\"\n        ],\n        \"semantic_type\": \"\",\n        \"description\": \"\"\n      }\n    },\n    {\n      \"column\": \"url\",\n      \"properties\": {\n        \"dtype\": \"string\",\n        \"num_unique_values\": 546,\n        \"samples\": [\n          \"https://www.cian.ru/sale/flat/298329420/\",\n          \"https://www.cian.ru/sale/flat/304063027/\",\n          \"https://www.cian.ru/sale/flat/297983503/\"\n        ],\n        \"semantic_type\": \"\",\n        \"description\": \"\"\n      }\n    },\n    {\n      \"column\": \"location\",\n      \"properties\": {\n        \"dtype\": \"category\",\n        \"num_unique_values\": 1,\n        \"samples\": [\n          \"\\u041c\\u043e\\u0441\\u043a\\u0432\\u0430\"\n        ],\n        \"semantic_type\": \"\",\n        \"description\": \"\"\n      }\n    },\n    {\n      \"column\": \"deal_type\",\n      \"properties\": {\n        \"dtype\": \"category\",\n        \"num_unique_values\": 1,\n        \"samples\": [\n          \"sale\"\n        ],\n        \"semantic_type\": \"\",\n        \"description\": \"\"\n      }\n    },\n    {\n      \"column\": \"accommodation_type\",\n      \"properties\": {\n        \"dtype\": \"category\",\n        \"num_unique_values\": 1,\n        \"samples\": [\n          \"flat\"\n        ],\n        \"semantic_type\": \"\",\n        \"description\": \"\"\n      }\n    },\n    {\n      \"column\": \"floor\",\n      \"properties\": {\n        \"dtype\": \"number\",\n        \"std\": 10,\n        \"min\": 1,\n        \"max\": 63,\n        \"num_unique_values\": 50,\n        \"samples\": [\n          1\n        ],\n        \"semantic_type\": \"\",\n        \"description\": \"\"\n      }\n    },\n    {\n      \"column\": \"floors_count\",\n      \"properties\": {\n        \"dtype\": \"number\",\n        \"std\": 16,\n        \"min\": 2,\n        \"max\": 79,\n        \"num_unique_values\": 66,\n        \"samples\": [\n          53\n        ],\n        \"semantic_type\": \"\",\n        \"description\": \"\"\n      }\n    },\n    {\n      \"column\": \"rooms_count\",\n      \"properties\": {\n        \"dtype\": \"number\",\n        \"std\": 0,\n        \"min\": 1,\n        \"max\": 2,\n        \"num_unique_values\": 2,\n        \"samples\": [\n          1\n        ],\n        \"semantic_type\": \"\",\n        \"description\": \"\"\n      }\n    },\n    {\n      \"column\": \"total_meters\",\n      \"properties\": {\n        \"dtype\": \"number\",\n        \"std\": 24.99952197308212,\n        \"min\": 15.1,\n        \"max\": 298.3,\n        \"num_unique_values\": 358,\n        \"samples\": [\n          40.4\n        ],\n        \"semantic_type\": \"\",\n        \"description\": \"\"\n      }\n    },\n    {\n      \"column\": \"price\",\n      \"properties\": {\n        \"dtype\": \"number\",\n        \"std\": 41409737.730802365,\n        \"min\": 5600000.0,\n        \"max\": 448200000.0,\n        \"num_unique_values\": 444,\n        \"samples\": [\n          47000000.0\n        ],\n        \"semantic_type\": \"\",\n        \"description\": \"\"\n      }\n    },\n    {\n      \"column\": \"district\",\n      \"properties\": {\n        \"dtype\": \"category\",\n        \"num_unique_values\": 83,\n        \"samples\": [\n          \"\\u0420\\u043e\\u0441\\u0442\\u043e\\u043a\\u0438\\u043d\\u043e\"\n        ],\n        \"semantic_type\": \"\",\n        \"description\": \"\"\n      }\n    },\n    {\n      \"column\": \"street\",\n      \"properties\": {\n        \"dtype\": \"category\",\n        \"num_unique_values\": 234,\n        \"samples\": [\n          \"\\u0411\\u0435\\u043b\\u043e\\u0437\\u0435\\u0440\\u0441\\u043a\\u0430\\u044f \"\n        ],\n        \"semantic_type\": \"\",\n        \"description\": \"\"\n      }\n    },\n    {\n      \"column\": \"house_number\",\n      \"properties\": {\n        \"dtype\": \"category\",\n        \"num_unique_values\": 237,\n        \"samples\": [\n          \"18\\u041a3\"\n        ],\n        \"semantic_type\": \"\",\n        \"description\": \"\"\n      }\n    },\n    {\n      \"column\": \"underground\",\n      \"properties\": {\n        \"dtype\": \"category\",\n        \"num_unique_values\": 171,\n        \"samples\": [\n          \"\\u0412\\u0414\\u041d\\u0425\"\n        ],\n        \"semantic_type\": \"\",\n        \"description\": \"\"\n      }\n    },\n    {\n      \"column\": \"residential_complex\",\n      \"properties\": {\n        \"dtype\": \"category\",\n        \"num_unique_values\": 227,\n        \"samples\": [\n          \"Art Residence\"\n        ],\n        \"semantic_type\": \"\",\n        \"description\": \"\"\n      }\n    }\n  ]\n}"
            }
          },
          "metadata": {},
          "execution_count": 28
        }
      ]
    },
    {
      "cell_type": "code",
      "source": [
        "df.shape"
      ],
      "metadata": {
        "colab": {
          "base_uri": "https://localhost:8080/"
        },
        "id": "QuRgdOWZpf39",
        "outputId": "8b1bc607-86f7-4286-ee0f-33bfb77857f6"
      },
      "execution_count": 29,
      "outputs": [
        {
          "output_type": "execute_result",
          "data": {
            "text/plain": [
              "(546, 16)"
            ]
          },
          "metadata": {},
          "execution_count": 29
        }
      ]
    },
    {
      "cell_type": "code",
      "source": [
        "!pip install openpyxl"
      ],
      "metadata": {
        "colab": {
          "base_uri": "https://localhost:8080/"
        },
        "id": "9NZ5laq-pmrA",
        "outputId": "05d3d246-d715-4ffe-f264-1ba8fef391bc"
      },
      "execution_count": 30,
      "outputs": [
        {
          "output_type": "stream",
          "name": "stdout",
          "text": [
            "Requirement already satisfied: openpyxl in /usr/local/lib/python3.10/dist-packages (3.1.5)\n",
            "Requirement already satisfied: et-xmlfile in /usr/local/lib/python3.10/dist-packages (from openpyxl) (1.1.0)\n"
          ]
        }
      ]
    },
    {
      "cell_type": "code",
      "source": [
        "# Сохраняем в csv файл\n",
        "\n",
        "df.to_csv('cian_realty.csv', index=False)\n",
        "\n",
        "# Сохраняем в эксель-файл\n",
        "\n",
        "df.to_excel('cian_realty.xlsx', index=False)\n",
        "\n",
        "# Сохраняем в файл в формате pickle\n",
        "\n",
        "df.to_pickle('cian_realty.pkl')"
      ],
      "metadata": {
        "id": "CI0EHFevpxE_"
      },
      "execution_count": 31,
      "outputs": []
    }
  ],
  "metadata": {
    "kernelspec": {
      "display_name": "Python 3",
      "language": "python",
      "name": "python3"
    },
    "language_info": {
      "codemirror_mode": {
        "name": "ipython",
        "version": 2
      },
      "file_extension": ".py",
      "mimetype": "text/x-python",
      "name": "python",
      "nbconvert_exporter": "python",
      "pygments_lexer": "ipython2",
      "version": "2.7.6"
    },
    "colab": {
      "provenance": [],
      "include_colab_link": true
    }
  },
  "nbformat": 4,
  "nbformat_minor": 0
}