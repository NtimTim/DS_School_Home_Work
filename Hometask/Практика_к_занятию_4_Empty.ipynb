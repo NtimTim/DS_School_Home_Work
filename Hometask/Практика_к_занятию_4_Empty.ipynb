{
  "cells": [
    {
      "cell_type": "markdown",
      "metadata": {
        "id": "view-in-github",
        "colab_type": "text"
      },
      "source": [
        "<a href=\"https://colab.research.google.com/github/NtimTim/DS_School_Home_Work/blob/main/Hometask/%D0%9F%D1%80%D0%B0%D0%BA%D1%82%D0%B8%D0%BA%D0%B0_%D0%BA_%D0%B7%D0%B0%D0%BD%D1%8F%D1%82%D0%B8%D1%8E_4_Empty.ipynb\" target=\"_parent\"><img src=\"https://colab.research.google.com/assets/colab-badge.svg\" alt=\"Open In Colab\"/></a>"
      ]
    },
    {
      "cell_type": "markdown",
      "source": [
        "[![Open In Colab](https://colab.research.google.com/assets/colab-badge.svg)](https://colab.research.google.com/github/4vel/python-intro/blob/main/Hometask/Task3_dmrf_OOP.ipynb)"
      ],
      "metadata": {
        "collapsed": false,
        "pycharm": {
          "name": "#%% md\n"
        },
        "id": "iBdontpi7bm3"
      }
    },
    {
      "cell_type": "markdown",
      "source": [
        "**Практика**\n",
        "\n",
        "Используемые библиотеки\n"
      ],
      "metadata": {
        "collapsed": false,
        "pycharm": {
          "name": "#%% md\n"
        },
        "id": "fdfeKrp57bnC"
      }
    },
    {
      "cell_type": "code",
      "source": [
        "import pandas as pd\n",
        "import numpy as np\n",
        "import requests # for web-download\n",
        "import io # for web-download\n",
        "import re # for data processing"
      ],
      "metadata": {
        "id": "54Xq1gxZ72fZ"
      },
      "execution_count": null,
      "outputs": []
    },
    {
      "cell_type": "markdown",
      "source": [
        "**Загрузка DataFrame**\n",
        "\n",
        "**Задача 1 **\n",
        "\n",
        "На основании данных портала \"Открытые данные России\" о результатах Химического анализа родника в Нескучном саду https://data.gov.ru/opendata/7708660670-rodnik-neskuchniy-sad средствами библиотеки Pandas сформируйте поле выводов по каждому анализирумомому параметру. Например, по показателю pH получен результат 8.4 единицы pH при нормативе от 6 до 9 единиц pH. Т.о. по данному показателю результат анализа в норме. Для решения задачи необходимо программно \"прочитать и понять\" значение столбца \"Норматив\" и выделенное численное значение сравнить с нормативом согласно логике норматива. Например, 6 >= pH >= 9. В итоговом DataFrame столбец \"Показатель\" сделайте индексным.\n",
        "\n",
        "Загзрузка DataFrame выполняется непосредственно c сайта \"Открытые данные России\" https://data.gov.ru/opendata/7708660670-rodnik-neskuchniy-sad/data-20160608T1215-structure-20160608T1215.csv (см. код ниже)."
      ],
      "metadata": {
        "id": "5pfAF9Xh79aB"
      }
    },
    {
      "cell_type": "code",
      "source": [
        "headers={\n",
        "    'User-Agent': 'Mozilla/5.0 (X11; Ubuntu; Linux x86_64; rv:52.0) Gecko/20100101 Firefox/52.0',\n",
        "}\n",
        "def get_content(url):\n",
        "    with requests.Session() as req:\n",
        "        req.headers.update(headers)\n",
        "        r = req.get(url).content\n",
        "    return r\n",
        "\n",
        "url =\"https://data.gov.ru/opendata/7708660670-rodnik-neskuchniy-sad/data-20160608T1215-structure-20160608T1215.csv\"\n",
        "s = get_content(url)\n",
        "df=pd.read_csv(io.StringIO(s.decode('UTF8')))\n",
        "\n",
        "\n",
        "### Если не работает загрузка on-line\n",
        "#df=pd.read_csv(\"Химический анализ родника в Нескучном саду.csv\", sep=';')\n",
        "display(df)"
      ],
      "metadata": {
        "id": "uIpVuJ0C8Cou"
      },
      "execution_count": null,
      "outputs": []
    },
    {
      "cell_type": "code",
      "execution_count": null,
      "outputs": [],
      "source": [
        "# # Ваше решение"
      ],
      "metadata": {
        "pycharm": {
          "name": "#%%\n"
        },
        "ExecuteTime": {
          "end_time": "2024-07-08T14:29:37.765426Z",
          "start_time": "2024-07-08T14:29:37.762100Z"
        },
        "id": "ptJE_O3x7bnF"
      }
    },
    {
      "cell_type": "markdown",
      "source": [
        "**Теория вероятности. События**\n",
        "\n",
        "Требуется сгенерировать необходимые выборки и произвести по ним расчеты\n",
        "\n",
        "**Задача 2**\n",
        "\n",
        "В ящике 5 апельсинов и 4 яблока. Наудачу выбираются 3 фрукта. Какова вероятность, что все три фрукта – апельсины?\n",
        "\n",
        "В интернете полученный аналитически ответ 0.119. Подтверждается ли он эксперементально?"
      ],
      "metadata": {
        "id": "0cXzRDDM8Mcv"
      }
    },
    {
      "cell_type": "code",
      "source": [
        "# Ваше решение"
      ],
      "metadata": {
        "id": "zqjg-MIA8Zeb"
      },
      "execution_count": null,
      "outputs": []
    },
    {
      "cell_type": "markdown",
      "source": [
        "**Задача 3**\n",
        "\n",
        "Мастер, имея 10 деталей, из которых 3 – нестандартных, проверяет детали одну за другой, пока ему не попадется стандартная. Какова вероятность, что он проверит ровно две детали?\n",
        "\n",
        "В интернете полученный аналитически ответ 7/30 или 0.23333. Подтверждается ли он эксперементально?"
      ],
      "metadata": {
        "id": "7zZycLp88TVz"
      }
    },
    {
      "cell_type": "code",
      "execution_count": null,
      "outputs": [],
      "source": [
        "# Ваше решение"
      ],
      "metadata": {
        "id": "2RQoHtAy7bnJ"
      }
    }
  ],
  "metadata": {
    "kernelspec": {
      "display_name": "Python 3",
      "language": "python",
      "name": "python3"
    },
    "language_info": {
      "codemirror_mode": {
        "name": "ipython",
        "version": 2
      },
      "file_extension": ".py",
      "mimetype": "text/x-python",
      "name": "python",
      "nbconvert_exporter": "python",
      "pygments_lexer": "ipython2",
      "version": "2.7.6"
    },
    "colab": {
      "provenance": [],
      "include_colab_link": true
    }
  },
  "nbformat": 4,
  "nbformat_minor": 0
}