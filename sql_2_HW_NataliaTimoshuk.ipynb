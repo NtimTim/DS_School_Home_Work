{
  "nbformat": 4,
  "nbformat_minor": 0,
  "metadata": {
    "colab": {
      "provenance": [],
      "authorship_tag": "ABX9TyPy8+XanO0FI6bHH2hsgEHI",
      "include_colab_link": true
    },
    "kernelspec": {
      "name": "python3",
      "display_name": "Python 3"
    },
    "language_info": {
      "name": "python"
    }
  },
  "cells": [
    {
      "cell_type": "markdown",
      "metadata": {
        "id": "view-in-github",
        "colab_type": "text"
      },
      "source": [
        "<a href=\"https://colab.research.google.com/github/NtimTim/DS_School_Home_Work/blob/main/sql_2_HW_NataliaTimoshuk.ipynb\" target=\"_parent\"><img src=\"https://colab.research.google.com/assets/colab-badge.svg\" alt=\"Open In Colab\"/></a>"
      ]
    },
    {
      "cell_type": "code",
      "source": [
        "import sqlite3\n",
        "import pandas as pd"
      ],
      "metadata": {
        "id": "RnDGk8JdRITd"
      },
      "execution_count": null,
      "outputs": []
    },
    {
      "cell_type": "code",
      "source": [
        "con = sqlite3.connect(':memory:')"
      ],
      "metadata": {
        "id": "d_EH5M-2RQwH"
      },
      "execution_count": null,
      "outputs": []
    },
    {
      "cell_type": "markdown",
      "source": [
        "https://www.cs.toronto.edu/~delve/data/boston/bostonDetail.html"
      ],
      "metadata": {
        "id": "uCvZBtGlRU6t"
      }
    },
    {
      "cell_type": "code",
      "source": [
        "data = pd.read_csv('boston.csv')\n",
        "data.head()"
      ],
      "metadata": {
        "id": "jMTenj0ARaC6"
      },
      "execution_count": null,
      "outputs": []
    },
    {
      "cell_type": "code",
      "source": [
        "data.to_sql('boston', con, index=False, if_exists='replace')"
      ],
      "metadata": {
        "id": "VfcUrNqRRdq1"
      },
      "execution_count": null,
      "outputs": []
    },
    {
      "cell_type": "code",
      "source": [
        "pd.read_sql(\n",
        "    '''\n",
        "    SELECT * FROM boston\n",
        "    limit 5\n",
        "    ''',\n",
        "    con,\n",
        ")"
      ],
      "metadata": {
        "id": "N4dhmfx2RhMf"
      },
      "execution_count": null,
      "outputs": []
    },
    {
      "cell_type": "markdown",
      "source": [
        "**Все задания нужно выполнить только с помощью sql**\n",
        "\n",
        "1. Выведите количество пустых значений по колонкам CRIM, ZN, INDUS, CHAS, NOX (название колонки, кол-во пустых значений)"
      ],
      "metadata": {
        "id": "nUD-TmXrS19S"
      }
    },
    {
      "cell_type": "code",
      "source": [
        "pd.read_sql(\n",
        "    '''\n",
        "    SELECT * FROM boston\n",
        "    limit 5\n",
        "    ''',\n",
        "    con,\n",
        ")"
      ],
      "metadata": {
        "id": "WTnR0YF8Sxvh"
      },
      "execution_count": null,
      "outputs": []
    },
    {
      "cell_type": "markdown",
      "source": [
        "2. Выведите количество уникальных значений по колонокам CRIM, ZN, INDUS, CHAS, NOX (название колонки, кол-во уникальных значений)"
      ],
      "metadata": {
        "id": "ojVoqYX3S_AW"
      }
    },
    {
      "cell_type": "code",
      "source": [
        "pd.read_sql(\n",
        "    '''\n",
        "    SELECT * FROM boston\n",
        "    limit 5\n",
        "    ''',\n",
        "    con,\n",
        ")"
      ],
      "metadata": {
        "id": "dcPWVqMETFJ9"
      },
      "execution_count": null,
      "outputs": []
    },
    {
      "cell_type": "markdown",
      "source": [
        "3. Выведите колонки, у которых медиана равна минимальному значению (название колонки) выбирая из CRIM, ZN, INDUS, CHAS, NOX. Напишите какой вывод можно сделать по данным в этих колонках"
      ],
      "metadata": {
        "id": "aKAfJVkXTIXF"
      }
    },
    {
      "cell_type": "code",
      "source": [
        "pd.read_sql(\n",
        "    '''\n",
        "    SELECT * FROM boston\n",
        "    limit 5\n",
        "    ''',\n",
        "    con,\n",
        ")"
      ],
      "metadata": {
        "id": "9PVT4DnZTNGZ"
      },
      "execution_count": null,
      "outputs": []
    },
    {
      "cell_type": "markdown",
      "source": [
        "4. Выведите ранги значений колонки LSTAT(процент населения с более низким статусом) в домах с самой дорогой стоимостью (значение LSTAT, стоимость, ранг) среди всех значений LSTAT. Напишите какой вывод можно сделать по этим данным."
      ],
      "metadata": {
        "id": "krehz4v1TQNH"
      }
    },
    {
      "cell_type": "code",
      "source": [
        "pd.read_sql(\n",
        "    '''\n",
        "    SELECT * FROM boston\n",
        "    limit 5\n",
        "    ''',\n",
        "    con,\n",
        ")"
      ],
      "metadata": {
        "id": "nk1na6OCTVkP"
      },
      "execution_count": null,
      "outputs": []
    },
    {
      "cell_type": "markdown",
      "source": [
        "5. Выведите среднюю стоимость домов граничащих с рекой(CHAS) и нет (граничит/не граничит, стоимость)"
      ],
      "metadata": {
        "id": "GoUwmKK8TZ-j"
      }
    },
    {
      "cell_type": "code",
      "source": [
        "pd.read_sql(\n",
        "    '''\n",
        "    SELECT * FROM boston\n",
        "    limit 5\n",
        "    ''',\n",
        "    con,\n",
        ")"
      ],
      "metadata": {
        "id": "l2-YcYP0TeNN"
      },
      "execution_count": null,
      "outputs": []
    },
    {
      "cell_type": "markdown",
      "source": [
        "6. Выведите все колонки, у которых среднее значение выше, когда дом граничит с рекой (название колонки) выбирая из CRIM, ZN, INDUS, CHAS, NOX. Напишите какой вывод можно сделать по этим данным."
      ],
      "metadata": {
        "id": "i5Vn7nj9TiHf"
      }
    },
    {
      "cell_type": "code",
      "source": [
        "pd.read_sql(\n",
        "    '''\n",
        "    SELECT * FROM boston\n",
        "    limit 5\n",
        "    ''',\n",
        "    con,\n",
        ")"
      ],
      "metadata": {
        "id": "T2BeJZ6UTnhk"
      },
      "execution_count": null,
      "outputs": []
    },
    {
      "cell_type": "markdown",
      "source": [
        "7. Выведите значения долей промышленной застройки(INDUS), концентрации оксидов азота(NOX) и по их перцентилям - 10, 20 ... 100 ( перцетиль(10,20...100),значение INDUS, значение NOX). Напишите прослеживается между ними взаимосвязь"
      ],
      "metadata": {
        "id": "JC1HRRFMTqlY"
      }
    },
    {
      "cell_type": "code",
      "source": [
        "pd.read_sql(\n",
        "    '''\n",
        "    SELECT * FROM boston\n",
        "    limit 5\n",
        "    ''',\n",
        "    con,\n",
        ")"
      ],
      "metadata": {
        "id": "WmN4xBweTvvO"
      },
      "execution_count": null,
      "outputs": []
    },
    {
      "cell_type": "code",
      "source": [],
      "metadata": {
        "id": "87xXK4TbTzMi"
      },
      "execution_count": null,
      "outputs": []
    }
  ]
}